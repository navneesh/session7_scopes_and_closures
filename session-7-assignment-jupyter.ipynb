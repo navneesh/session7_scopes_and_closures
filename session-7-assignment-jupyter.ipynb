{
 "cells": [
  {
   "cell_type": "markdown",
   "metadata": {},
   "source": [
    "### Q1 - Write a closure that takes a function and then check whether the function passed has a docstring with more than 50 characters. 50 is stored as a free variable (+ 4 tests) - 200"
   ]
  },
  {
   "cell_type": "code",
   "execution_count": 40,
   "metadata": {
    "collapsed": true
   },
   "outputs": [],
   "source": [
    "def return_closure(fn, length = 50):\n",
    "    def closure_func():\n",
    "         return True if len(fn.__doc__) > length else False\n",
    "    return closure_func\n",
    "    "
   ]
  },
  {
   "cell_type": "code",
   "execution_count": 45,
   "metadata": {},
   "outputs": [
    {
     "ename": "TypeError",
     "evalue": "object of type 'NoneType' has no len()",
     "output_type": "error",
     "traceback": [
      "\u001b[1;31m---------------------------------------------------------------------------\u001b[0m",
      "\u001b[1;31mTypeError\u001b[0m                                 Traceback (most recent call last)",
      "\u001b[1;32m<ipython-input-45-a49d893742e2>\u001b[0m in \u001b[0;36m<module>\u001b[1;34m()\u001b[0m\n\u001b[0;32m      2\u001b[0m     \u001b[1;32mpass\u001b[0m\u001b[1;33m\u001b[0m\u001b[1;33m\u001b[0m\u001b[0m\n\u001b[0;32m      3\u001b[0m \u001b[1;33m\u001b[0m\u001b[0m\n\u001b[1;32m----> 4\u001b[1;33m \u001b[0mreturn_closure\u001b[0m\u001b[1;33m(\u001b[0m\u001b[0mabc\u001b[0m\u001b[1;33m,\u001b[0m\u001b[0mlength\u001b[0m \u001b[1;33m=\u001b[0m \u001b[1;36m5\u001b[0m\u001b[1;33m)\u001b[0m\u001b[1;33m(\u001b[0m\u001b[1;33m)\u001b[0m\u001b[1;33m\u001b[0m\u001b[1;33m\u001b[0m\u001b[0m\n\u001b[0m",
      "\u001b[1;32m<ipython-input-40-dab480b9566a>\u001b[0m in \u001b[0;36mclosure_func\u001b[1;34m()\u001b[0m\n\u001b[0;32m      1\u001b[0m \u001b[1;32mdef\u001b[0m \u001b[0mreturn_closure\u001b[0m\u001b[1;33m(\u001b[0m\u001b[0mfn\u001b[0m\u001b[1;33m,\u001b[0m \u001b[0mlength\u001b[0m \u001b[1;33m=\u001b[0m \u001b[1;36m50\u001b[0m\u001b[1;33m)\u001b[0m\u001b[1;33m:\u001b[0m\u001b[1;33m\u001b[0m\u001b[1;33m\u001b[0m\u001b[0m\n\u001b[0;32m      2\u001b[0m     \u001b[1;32mdef\u001b[0m \u001b[0mclosure_func\u001b[0m\u001b[1;33m(\u001b[0m\u001b[1;33m)\u001b[0m\u001b[1;33m:\u001b[0m\u001b[1;33m\u001b[0m\u001b[1;33m\u001b[0m\u001b[0m\n\u001b[1;32m----> 3\u001b[1;33m          \u001b[1;32mreturn\u001b[0m \u001b[1;32mTrue\u001b[0m \u001b[1;32mif\u001b[0m \u001b[0mlen\u001b[0m\u001b[1;33m(\u001b[0m\u001b[0mfn\u001b[0m\u001b[1;33m.\u001b[0m\u001b[0m__doc__\u001b[0m\u001b[1;33m)\u001b[0m \u001b[1;33m>\u001b[0m \u001b[0mlength\u001b[0m \u001b[1;32melse\u001b[0m \u001b[1;32mFalse\u001b[0m\u001b[1;33m\u001b[0m\u001b[1;33m\u001b[0m\u001b[0m\n\u001b[0m\u001b[0;32m      4\u001b[0m     \u001b[1;32mreturn\u001b[0m \u001b[0mclosure_func\u001b[0m\u001b[1;33m\u001b[0m\u001b[1;33m\u001b[0m\u001b[0m\n\u001b[0;32m      5\u001b[0m \u001b[1;33m\u001b[0m\u001b[0m\n",
      "\u001b[1;31mTypeError\u001b[0m: object of type 'NoneType' has no len()"
     ]
    }
   ],
   "source": [
    "\n",
    "# TEST 1\n",
    "\n",
    "def abc():\n",
    "    pass\n",
    "\n",
    "return_closure(abc,length = 5)()\n"
   ]
  },
  {
   "cell_type": "code",
   "execution_count": 41,
   "metadata": {},
   "outputs": [
    {
     "data": {
      "text/plain": [
       "False"
      ]
     },
     "execution_count": 41,
     "metadata": {},
     "output_type": "execute_result"
    }
   ],
   "source": [
    "\n",
    "# TEST 2\n",
    "\n",
    "def abc():\n",
    "    \"\"\"Hello world\"\"\"\n",
    "    pass\n",
    "\n",
    "return_closure(abc)()\n"
   ]
  },
  {
   "cell_type": "code",
   "execution_count": 42,
   "metadata": {},
   "outputs": [
    {
     "data": {
      "text/plain": [
       "True"
      ]
     },
     "execution_count": 42,
     "metadata": {},
     "output_type": "execute_result"
    }
   ],
   "source": [
    "\n",
    "# TEST 3\n",
    "\n",
    "def abc():\n",
    "    \"\"\"Hello world, Hello world, Hello world, Hello world, Hello world, Hello world, Hello world, Hello world, \n",
    "    Hello world, Hello world, Hello world, Hello world, Hello world, Hello world, Hello world, Hello world, \"\"\"\n",
    "    pass\n",
    "\n",
    "return_closure(abc)()"
   ]
  },
  {
   "cell_type": "code",
   "execution_count": 44,
   "metadata": {},
   "outputs": [
    {
     "data": {
      "text/plain": [
       "True"
      ]
     },
     "execution_count": 44,
     "metadata": {},
     "output_type": "execute_result"
    }
   ],
   "source": [
    "\n",
    "# TEST 4\n",
    "\n",
    "def abc():\n",
    "    \"\"\"Hello world\"\"\"\n",
    "    pass\n",
    "\n",
    "return_closure(abc,length = 5)()\n"
   ]
  },
  {
   "cell_type": "code",
   "execution_count": 46,
   "metadata": {},
   "outputs": [
    {
     "data": {
      "text/plain": [
       "False"
      ]
     },
     "execution_count": 46,
     "metadata": {},
     "output_type": "execute_result"
    }
   ],
   "source": [
    "\n",
    "# TEST 5\n",
    "\n",
    "def abc():\n",
    "    \"\"\"\"\"\"\n",
    "    pass\n",
    "\n",
    "return_closure(abc,length = 5)()\n"
   ]
  },
  {
   "cell_type": "markdown",
   "metadata": {},
   "source": [
    "### Q2 - Write a closure that gives you the next Fibonacci number (+ 2 tests) - 100"
   ]
  },
  {
   "cell_type": "code",
   "execution_count": 15,
   "metadata": {
    "collapsed": true
   },
   "outputs": [],
   "source": [
    "def ret_closure_fibonacci(last_two=[1,2]):    \n",
    "    # print(last_two)\n",
    "    def fibonacci():\n",
    "        nonlocal last_two\n",
    "        next_fibonacci = sum(last_two)\n",
    "        last_two[0], last_two[1] = last_two[1], next_fibonacci\n",
    "        # print(next_fibonacci)\n",
    "        # print(last_two)\n",
    "        return next_fibonacci\n",
    "    return fibonacci"
   ]
  },
  {
   "cell_type": "code",
   "execution_count": 16,
   "metadata": {},
   "outputs": [
    {
     "data": {
      "text/plain": [
       "(5, 8, 13, 21, 34)"
      ]
     },
     "execution_count": 16,
     "metadata": {},
     "output_type": "execute_result"
    }
   ],
   "source": [
    "\n",
    "# TEST 1\n",
    "\n",
    "fibonacci = ret_closure_fibonacci()\n",
    "fibonacci(), fibonacci(), fibonacci(), fibonacci(), fibonacci()"
   ]
  },
  {
   "cell_type": "code",
   "execution_count": 62,
   "metadata": {
    "collapsed": true
   },
   "outputs": [],
   "source": [
    "\n",
    "# Test 2\n"
   ]
  },
  {
   "cell_type": "markdown",
   "metadata": {},
   "source": [
    "### Q3 - We wrote a closure that counts how many times a function was called. Write a new one that can keep a track of how many times add/mul/div functions were called, and update a global dictionary variable with the counts (+ 6 tests) - 250"
   ]
  },
  {
   "cell_type": "code",
   "execution_count": 1,
   "metadata": {
    "collapsed": true
   },
   "outputs": [],
   "source": [
    "\n",
    "global_dict_fn_cnt = dict()\n",
    "\n",
    "def ret_closure(fn):\n",
    "    # initializing a counter\n",
    "    count = 0\n",
    "    def closure_func(*args, **kwargs):\n",
    "        # reference to nonlocal variable that we intend to change\n",
    "        nonlocal count\n",
    "        count = count + 1\n",
    "        # global dictionary inserted/updated with latest count of \"fn\" function\n",
    "        global_dict_fn_cnt[fn.__name__] = count\n",
    "        # returning output as the original \"fn\" would have returned\n",
    "        return fn(*args, **kwargs)\n",
    "    # returning a closure which enhances functionality of \"fn\" by also maintaining its execution count\n",
    "    return closure_func\n",
    "    "
   ]
  },
  {
   "cell_type": "code",
   "execution_count": 2,
   "metadata": {
    "collapsed": true
   },
   "outputs": [],
   "source": [
    "def add (a,b):\n",
    "    return a+b\n",
    "\n",
    "def mult(a,b):\n",
    "    return a*b\n",
    "\n",
    "def div(a,b):\n",
    "    return a/b"
   ]
  },
  {
   "cell_type": "code",
   "execution_count": 3,
   "metadata": {
    "collapsed": true
   },
   "outputs": [],
   "source": [
    "# Actually, the function \"ret_closure\" returns the function \"closure_func\" above. But to make it a better read, we want to\n",
    "# use the name \"add\" in L.H.S. This is amazing since now this equation means the following:\n",
    "# LHS_ADD =  Original_ADD  +   functionality_to_count_executions_of_add\n",
    "# So the LHS \"add\" should be remembered as a decorated (with a new feature) version of the original \"add\".\n",
    "add = ret_closure(add)\n",
    "mult = ret_closure(mult)\n",
    "div = ret_closure(div)"
   ]
  },
  {
   "cell_type": "code",
   "execution_count": 4,
   "metadata": {
    "collapsed": true
   },
   "outputs": [],
   "source": [
    "for i in range(10):\n",
    "    add(i, i+1)\n",
    "\n",
    "for i in range(10):\n",
    "    mult(i, i+1)\n",
    "\n",
    "for i in range(10):\n",
    "    div(i, i+1)"
   ]
  },
  {
   "cell_type": "code",
   "execution_count": 5,
   "metadata": {},
   "outputs": [
    {
     "data": {
      "text/plain": [
       "{'add': 10, 'div': 10, 'mult': 10}"
      ]
     },
     "execution_count": 5,
     "metadata": {},
     "output_type": "execute_result"
    }
   ],
   "source": [
    "global_dict_fn_cnt"
   ]
  },
  {
   "cell_type": "markdown",
   "metadata": {},
   "source": [
    "### Q4 - Modify above such that now we can pass in different dictionary variables to update different dictionaries (+ 6 tests) - 250"
   ]
  },
  {
   "cell_type": "code",
   "execution_count": 21,
   "metadata": {
    "collapsed": true
   },
   "outputs": [],
   "source": [
    "def ret_closure(fn, my_dict):\n",
    "    # initializing a counter\n",
    "    count = 0\n",
    "    def closure_func(*args, **kwargs):\n",
    "        # reference to nonlocal variable that we intend to change\n",
    "        nonlocal count\n",
    "        nonlocal my_dict\n",
    "        count = count + 1\n",
    "        # global dictionary inserted/updated with latest count of \"fn\" function\n",
    "        my_dict[fn.__name__] = count\n",
    "        # returning output as the original \"fn\" would have returned\n",
    "        return fn(*args, **kwargs)\n",
    "    # returning a closure which enhances functionality of \"fn\" by also maintaining its execution count\n",
    "    return closure_func"
   ]
  },
  {
   "cell_type": "code",
   "execution_count": 22,
   "metadata": {
    "collapsed": true
   },
   "outputs": [],
   "source": [
    "def add (a,b):\n",
    "    return a+b\n",
    "\n",
    "def mult(a,b):\n",
    "    return a*b\n",
    "\n",
    "def div(a,b):\n",
    "    return a/b\n",
    "\n",
    "add_counter = dict()\n",
    "add = ret_closure(add, add_counter)\n",
    "\n",
    "mult_counter = dict()\n",
    "mult = ret_closure(mult, add_counter)\n",
    "\n",
    "div_counter = dict()\n",
    "div = ret_closure(div, add_counter)\n"
   ]
  },
  {
   "cell_type": "code",
   "execution_count": 23,
   "metadata": {
    "collapsed": true
   },
   "outputs": [],
   "source": [
    "for i in range(10):\n",
    "    add(i, i+1)\n",
    "\n",
    "for i in range(10):\n",
    "    mult(i, i+1)\n",
    "\n",
    "for i in range(10):\n",
    "    div(i, i+1)"
   ]
  },
  {
   "cell_type": "code",
   "execution_count": 24,
   "metadata": {},
   "outputs": [
    {
     "data": {
      "text/plain": [
       "({'add': 10, 'div': 10, 'mult': 10}, {}, {})"
      ]
     },
     "execution_count": 24,
     "metadata": {},
     "output_type": "execute_result"
    }
   ],
   "source": [
    "add_counter, mult_counter, div_counter"
   ]
  },
  {
   "cell_type": "code",
   "execution_count": null,
   "metadata": {
    "collapsed": true
   },
   "outputs": [],
   "source": []
  }
 ],
 "metadata": {
  "kernelspec": {
   "display_name": "Python 3",
   "language": "python",
   "name": "python3"
  },
  "language_info": {
   "codemirror_mode": {
    "name": "ipython",
    "version": 3
   },
   "file_extension": ".py",
   "mimetype": "text/x-python",
   "name": "python",
   "nbconvert_exporter": "python",
   "pygments_lexer": "ipython3",
   "version": "3.6.7"
  }
 },
 "nbformat": 4,
 "nbformat_minor": 2
}
